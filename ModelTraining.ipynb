{
 "cells": [
  {
   "cell_type": "markdown",
   "metadata": {
    "id": "d8Pk9vF7VMO5"
   },
   "source": [
    "# CNN Model Training\n",
    "\n",
    "\n",
    "- Alexnet Model Architecture: Accepts 256 * 256 pixel images with 3 channels"
   ]
  },
  {
   "cell_type": "markdown",
   "metadata": {
    "id": "gi5mYmjrWXDE"
   },
   "source": [
    "## Importing Required Libraries"
   ]
  },
  {
   "cell_type": "code",
   "execution_count": 51,
   "metadata": {
    "id": "A9NwqWQIBSGj",
    "colab": {
     "base_uri": "https://localhost:8080/"
    },
    "outputId": "437628d3-f78a-4172-e1e5-5958f019f0c0"
   },
   "outputs": [],
   "source": [
    "import torch \n",
    "import torch.nn as nn\n",
    "import numpy as np\n",
    "import matplotlib.pyplot as plt\n",
    "import torch.optim as optim\n",
    "import torchvision.transforms as transforms\n",
    "from torch.utils.data import Dataset\n",
    "from skorch import NeuralNetClassifier\n",
    "from skorch.callbacks import EpochScoring\n",
    "from importlib import reload\n",
    "import pickle\n",
    "from sklearn.metrics import accuracy_score\n",
    "from skorch.helper import predefined_split"
   ]
  },
  {
   "cell_type": "code",
   "execution_count": 52,
   "metadata": {
    "id": "sqDN-UIENuDk"
   },
   "outputs": [],
   "source": [
    "def readPickleFile(path, file):\n",
    "  opath = path+file\n",
    "  data = None\n",
    "  with open(opath, \"rb\") as file:\n",
    "    data = pickle.load(file)\n",
    "  return data"
   ]
  },
  {
   "cell_type": "code",
   "execution_count": 53,
   "metadata": {
    "id": "BKzA2T5dPxB_"
   },
   "outputs": [],
   "source": [
    "# custom dataset class. \n",
    "class MaskDataSet(Dataset):\n",
    "  def __init__(self, data, label, transform=None, target_transform=None):\n",
    "    super(Dataset, self).__init__()\n",
    "    self.data = data\n",
    "    self.label = label\n",
    "    self.transform = transform\n",
    "    self.target_transform = target_transform\n",
    "  \n",
    "  def __len__(self):\n",
    "    return len(self.data)\n",
    "  \n",
    "  def __getitem__(self, index):\n",
    "    img = self.data[index]\n",
    "    if(self.transform):\n",
    "      img = self.transform(img)\n",
    "      \n",
    "    label = self.label[index]\n",
    "    if(self.target_transform):\n",
    "      label = self.target_transform(label)\n",
    "    return img, label\n"
   ]
  },
  {
   "cell_type": "markdown",
   "metadata": {
    "id": "J-5NHQOzj3S9"
   },
   "source": []
  },
  {
   "cell_type": "markdown",
   "source": [
    "## Visualising the Dataset\n",
    "\n"
   ],
   "metadata": {
    "id": "e0BcACP6ep_9"
   }
  },
  {
   "cell_type": "code",
   "source": [
    "import pandas as pd\n",
    "plt=reload(plt)\n",
    "\n",
    "def displayDistribution(y, title):\n",
    "  \n",
    "  df = pd.DataFrame(y, columns=[\"labels\"])\n",
    "  cloth_based = df[df[\"labels\"] == 1].shape[0]\n",
    "  surgical_mask = df[df[\"labels\"] == 2].shape[0]\n",
    "  no_mask = df[df[\"labels\"] == 3].shape[0]\n",
    "  valve_mask = df[df[\"labels\"] == 4].shape[0]\n",
    "  no_valve = df[df[\"labels\"] == 5].shape[0]\n",
    "\n",
    "  plt.title(title)\n",
    "  plt.rcParams[\"figure.figsize\"] = (10, 5)\n",
    "  plt.bar(\"cloth\", cloth_based)\n",
    "  plt.bar(\"surgical\", surgical_mask)\n",
    "  plt.bar(\"no mask\", no_mask)\n",
    "  plt.bar(\"valve mask\", valve_mask)\n",
    "  plt.bar(\"no valve\", no_valve)\n",
    "  plt.plot()"
   ],
   "metadata": {
    "colab": {
     "base_uri": "https://localhost:8080/",
     "height": 336
    },
    "id": "uKWMxWsaVlpG",
    "outputId": "398ae5b4-7797-49db-a2c9-3759a10afbd3"
   },
   "execution_count": 234,
   "outputs": []
  },
  {
   "cell_type": "markdown",
   "source": [
    "## AlexNet Model Architecture"
   ],
   "metadata": {
    "collapsed": false
   }
  },
  {
   "cell_type": "code",
   "execution_count": 239,
   "outputs": [],
   "source": [
    "from torch.utils.data import DataLoader\n",
    "\n",
    "\n",
    "test_data = readPickleFile(\"\", \"train_256.pkl\")\n",
    "data = readPickleFile(\"\", \"test_256.pkl\")\n",
    "(X, y) = data\n",
    "\n",
    "(X_test, y_test) = test_data\n",
    "\n",
    "\n",
    "img_transform = transforms.Compose([\n",
    "    transforms.ToTensor(),\n",
    "    transforms.RandomHorizontalFlip(),\n",
    "    transforms.Normalize([0.5598, 0.5210, 0.4990], [0.3023, 0.2992, 0.3075])\n",
    "])\n",
    "mask_dataset = MaskDataSet(X, y, transform=img_transform)\n",
    "mask_test_dataset = MaskDataSet(X_test, y_test, transform=img_transform)\n",
    "\n",
    "y_cloth_train = []\n",
    "for k, m in iter(mask_dataset):\n",
    "  y_cloth_train.append(m)"
   ],
   "metadata": {
    "collapsed": false,
    "pycharm": {
     "name": "#%%\n"
    }
   }
  },
  {
   "cell_type": "code",
   "execution_count": 240,
   "outputs": [
    {
     "data": {
      "text/plain": "<Figure size 720x360 with 1 Axes>",
      "image/png": "[encoded data removed]"
     },
     "metadata": {
      "needs_background": "light"
     },
     "output_type": "display_data"
    }
   ],
   "source": [
    "displayDistribution(y, \"Training masks distribution\")"
   ],
   "metadata": {
    "collapsed": false,
    "pycharm": {
     "name": "#%%\n"
    }
   }
  },
  {
   "cell_type": "code",
   "execution_count": 241,
   "outputs": [
    {
     "data": {
      "text/plain": "<Figure size 720x360 with 1 Axes>",
      "image/png": "[encoded data removed]"
     },
     "metadata": {
      "needs_background": "light"
     },
     "output_type": "display_data"
    }
   ],
   "source": [
    "displayDistribution(y_test, \"Testing masks distribution\")"
   ],
   "metadata": {
    "collapsed": false,
    "pycharm": {
     "name": "#%%\n"
    }
   }
  },
  {
   "cell_type": "markdown",
   "metadata": {
    "id": "aqEHjGDjdaiN"
   },
   "source": [
    "# AlexNet Training"
   ]
  },
  {
   "cell_type": "markdown",
   "source": [],
   "metadata": {
    "collapsed": false
   }
  },
  {
   "cell_type": "markdown",
   "source": [
    "<img src=\"./alexnet.png\" alt=\"drawing\" width=\"1300\"/>"
   ],
   "metadata": {
    "collapsed": false,
    "pycharm": {
     "name": "#%% md\n"
    }
   }
  },
  {
   "cell_type": "markdown",
   "metadata": {
    "id": "kM41djCAdga8"
   },
   "source": [
    "Photo Credits: https://towardsdatascience.com/the-w3h-of-alexnet-vggnet-resnet-and-inception-7baaaecccc96\n",
    "\n",
    "Ref Used (Important): \n",
    "\n",
    "1.   https://en.wikipedia.org/wiki/AlexNet\n",
    "2.   https://towardsdatascience.com/the-w3h-of-alexnet-vggnet-resnet-and-inception-7baaaecccc96\n",
    "3. Other sources are mentioned below in the ref section\n",
    "\n",
    "\n"
   ]
  },
  {
   "cell_type": "code",
   "execution_count": 242,
   "metadata": {
    "id": "UcGCw9bY3ixJ"
   },
   "outputs": [],
   "source": [
    "\n",
    "class AlexNetwork(nn.Module):\n",
    "  def __init__(self):\n",
    "    super(AlexNetwork, self).__init__()\n",
    "    self.conv1 = nn.Conv2d(in_channels=3, out_channels= 96, kernel_size= 11, stride=4, padding=0)\n",
    "    self.conv2 = nn.Conv2d(in_channels=96, out_channels=256, kernel_size=5, stride= 1, padding= 2)\n",
    "    self.conv3 = nn.Conv2d(in_channels=256, out_channels=384, kernel_size=3, stride= 1, padding= 1)\n",
    "    self.conv4 = nn.Conv2d(in_channels=384, out_channels=384, kernel_size=3, stride=1, padding=1)\n",
    "    self.conv5 = nn.Conv2d(in_channels=384, out_channels=256, kernel_size=3, stride=1, padding=1)\n",
    "    self.maxpool = nn.MaxPool2d(kernel_size=3, stride=2)\n",
    "  \n",
    "    self.linear1  = nn.Linear(in_features= 9216, out_features= 4096)\n",
    "    self.linear2  = nn.Linear(in_features= 4096, out_features= 4096)\n",
    "    self.linear3 = nn.Linear(in_features=4096 , out_features=10)\n",
    "    self.relu = nn.ReLU()\n",
    "  \n",
    "  def forward(self, x):\n",
    "    output = self.conv1(x)\n",
    "    output = self.relu(output)\n",
    "    # max pooling\n",
    "    output = self.maxpool(output)\n",
    "    # second conv layer.\n",
    "    output = self.conv2(output)\n",
    "    output = self.relu(output)\n",
    "\n",
    "    # third convolutional layer\n",
    "    output = self.conv3(output)\n",
    "    output = self.relu(output)\n",
    "\n",
    "    # fourth convolutional layer\n",
    "    output = self.conv4(output)\n",
    "    output = self.relu(output)\n",
    "\n",
    "    # fifth convolutional layer\n",
    "    output = self.conv5(output)\n",
    "    output = self.relu(output)\n",
    "\n",
    "    # Maxpooling layer. \n",
    "    output = self.maxpool(output)\n",
    "\n",
    "    # Flattening layer followed by the fc network\n",
    "    output = output.reshape(output.shape[0], -1)\n",
    "    output = self.linear1(output)\n",
    "    output = self.relu(output)\n",
    "\n",
    "    output = self.linear2(output)\n",
    "    output = self.relu(output)    \n",
    "\n",
    "    output = self.linear3(output)\n",
    "    return output"
   ]
  },
  {
   "cell_type": "code",
   "execution_count": 243,
   "metadata": {
    "id": "bI62_VSeaIT7"
   },
   "outputs": [],
   "source": [
    "torch.manual_seed(0)\n",
    "training_epochs = 200\n",
    "device = torch.device('cuda' if torch.cuda.is_available() else 'cpu')\n",
    "\n",
    "def trainModel(optimizer, epochs=training_epochs):\n",
    "    network = NeuralNetClassifier(\n",
    "        module=AlexNetwork,\n",
    "        max_epochs=epochs,\n",
    "        train_split= predefined_split(mask_dataset),\n",
    "        optimizer=optimizer,\n",
    "        device=device,\n",
    "        criterion=nn.CrossEntropyLoss,\n",
    "        lr=1e-4,\n",
    "        batch_size=128,\n",
    "         callbacks=[\n",
    "            EpochScoring(scoring='accuracy', name='train_acc', on_train=True),\n",
    "        ],\n",
    "    )\n",
    "    network.fit(mask_dataset, None)\n",
    "    return network"
   ]
  },
  {
   "cell_type": "code",
   "execution_count": 244,
   "outputs": [],
   "source": [
    "def metricsGenerator(network, training_epochs, train_loss, train_acc, valid_loss, valid_acc):\n",
    "    net = network\n",
    "    for i in range(training_epochs):\n",
    "        train_loss.append(net.history[i]['train_loss'])\n",
    "        valid_loss.append(net.history[i]['valid_loss'])\n",
    "        valid_acc.append(net.history[i]['valid_acc'])\n",
    "        train_acc.append(net.history[i]['train_acc'])\n"
   ],
   "metadata": {
    "collapsed": false,
    "pycharm": {
     "name": "#%%\n"
    }
   }
  },
  {
   "cell_type": "markdown",
   "source": [
    "## Training the Model for Larger Epochs"
   ],
   "metadata": {
    "collapsed": false
   }
  },
  {
   "cell_type": "code",
   "execution_count": 245,
   "outputs": [
    {
     "name": "stdout",
     "output_type": "stream",
     "text": [
      "  epoch    train_acc    train_loss    valid_acc    valid_loss     dur\n",
      "-------  -----------  ------------  -----------  ------------  ------\n",
      "      1       \u001B[36m0.2178\u001B[0m        \u001B[32m3.6670\u001B[0m       \u001B[35m0.2100\u001B[0m        \u001B[31m2.2740\u001B[0m  7.0238\n",
      "      2       \u001B[36m0.0476\u001B[0m        \u001B[32m2.2543\u001B[0m       0.2100        \u001B[31m2.0939\u001B[0m  6.9079\n",
      "      3       0.0880        \u001B[32m2.0732\u001B[0m       0.1964        \u001B[31m2.0493\u001B[0m  7.0458\n",
      "      4       0.1964        \u001B[32m1.9692\u001B[0m       0.2100        \u001B[31m1.8342\u001B[0m  6.7241\n",
      "      5       0.2100        \u001B[32m1.8901\u001B[0m       0.2100        \u001B[31m1.7898\u001B[0m  6.6792\n",
      "      6       0.2100        \u001B[32m1.8556\u001B[0m       0.2100        \u001B[31m1.6350\u001B[0m  6.6722\n",
      "      7       \u001B[36m0.0000\u001B[0m        \u001B[32m1.8231\u001B[0m       \u001B[35m0.2422\u001B[0m        1.6847  6.6572\n",
      "      8       0.2422        \u001B[32m1.7161\u001B[0m       0.2422        \u001B[31m1.6308\u001B[0m  6.5383\n",
      "      9       0.2422        \u001B[32m1.6645\u001B[0m       0.2422        \u001B[31m1.6187\u001B[0m  6.4404\n",
      "     10       0.2422        1.6730       0.2422        \u001B[31m1.6152\u001B[0m  6.4904\n",
      "     11       0.2061        1.6704       0.2422        \u001B[31m1.6148\u001B[0m  6.4434\n",
      "     12       0.2422        1.6677       0.2422        \u001B[31m1.6138\u001B[0m  6.4794\n",
      "     13       0.2422        1.6652       0.2422        \u001B[31m1.6130\u001B[0m  7.0128\n",
      "     14       0.2422        \u001B[32m1.6627\u001B[0m       0.2422        \u001B[31m1.6124\u001B[0m  6.8600\n",
      "     15       0.2422        \u001B[32m1.6605\u001B[0m       0.2422        \u001B[31m1.6118\u001B[0m  7.0328\n",
      "     16       0.2422        \u001B[32m1.6585\u001B[0m       0.2422        \u001B[31m1.6113\u001B[0m  6.9349\n",
      "     17       0.2422        \u001B[32m1.6567\u001B[0m       0.2422        \u001B[31m1.6108\u001B[0m  6.8130\n",
      "     18       0.2422        \u001B[32m1.6551\u001B[0m       0.2422        \u001B[31m1.6104\u001B[0m  6.9259\n",
      "     19       0.2422        \u001B[32m1.6535\u001B[0m       0.2422        \u001B[31m1.6099\u001B[0m  6.7271\n",
      "     20       0.2422        \u001B[32m1.6521\u001B[0m       0.2422        \u001B[31m1.6095\u001B[0m  6.7980\n",
      "     21       0.2422        \u001B[32m1.6508\u001B[0m       0.2422        \u001B[31m1.6091\u001B[0m  6.6202\n",
      "     22       0.2422        \u001B[32m1.6495\u001B[0m       0.2422        \u001B[31m1.6085\u001B[0m  6.7381\n",
      "     23       0.2422        \u001B[32m1.6482\u001B[0m       0.2422        \u001B[31m1.6079\u001B[0m  6.7791\n",
      "     24       0.2422        \u001B[32m1.6470\u001B[0m       0.2422        \u001B[31m1.6072\u001B[0m  6.6712\n",
      "     25       0.2422        \u001B[32m1.6460\u001B[0m       0.2422        \u001B[31m1.6063\u001B[0m  6.5113\n",
      "     26       0.2422        \u001B[32m1.6450\u001B[0m       0.2422        \u001B[31m1.6053\u001B[0m  6.4974\n",
      "     27       0.2422        \u001B[32m1.6449\u001B[0m       \u001B[35m0.3013\u001B[0m        \u001B[31m1.6042\u001B[0m  6.5063\n",
      "     28       0.2338        1.6460       \u001B[35m0.3582\u001B[0m        \u001B[31m1.6010\u001B[0m  6.4554\n",
      "     29       0.2208        1.6513       0.3248        1.6043  6.4524\n",
      "     30       0.2338        \u001B[32m1.6409\u001B[0m       0.3320        \u001B[31m1.5890\u001B[0m  6.4804\n",
      "     31       0.1826        1.6643       0.3519        1.6115  6.5333\n",
      "     32       0.2323        1.6592       0.2546        1.5980  6.5033\n",
      "     33       0.0603        1.6449       \u001B[35m0.3625\u001B[0m        1.5909  6.4794\n",
      "     34       0.2088        \u001B[32m1.6323\u001B[0m       0.3477        \u001B[31m1.5727\u001B[0m  6.4993\n",
      "     35       0.1820        1.6467       0.2977        1.5789  6.4784\n",
      "     36       0.0919        1.6381       0.3594        \u001B[31m1.5660\u001B[0m  6.4983\n",
      "     37       0.2004        1.6362       0.2811        \u001B[31m1.5518\u001B[0m  6.4244\n",
      "     38       0.0708        1.6460       0.3001        1.5734  6.4704\n",
      "     39       0.0985        \u001B[32m1.6240\u001B[0m       0.3052        \u001B[31m1.5446\u001B[0m  6.4484\n",
      "     40       0.0970        1.6279       0.3263        \u001B[31m1.5391\u001B[0m  6.4594\n",
      "     41       0.0934        \u001B[32m1.6056\u001B[0m       0.3365        \u001B[31m1.5185\u001B[0m  6.4624\n",
      "     42       0.1268        \u001B[32m1.5968\u001B[0m       0.3299        \u001B[31m1.5024\u001B[0m  6.4954\n",
      "     43       0.1952        1.6006       0.2956        1.5112  6.4864\n",
      "     44       0.1271        1.6139       0.3254        1.5059  6.4853\n",
      "     45       0.1925        \u001B[32m1.5761\u001B[0m       0.3209        \u001B[31m1.4746\u001B[0m  6.4854\n",
      "     46       0.1178        1.6029       0.3308        1.4855  6.4804\n",
      "     47       0.2100        \u001B[32m1.5611\u001B[0m       0.3299        \u001B[31m1.4578\u001B[0m  6.4584\n",
      "     48       0.2124        1.5621       0.3429        \u001B[31m1.4507\u001B[0m  6.4844\n",
      "     49       0.2269        \u001B[32m1.5516\u001B[0m       0.3359        \u001B[31m1.4436\u001B[0m  6.5103\n",
      "     50       0.2118        1.5659       0.3474        \u001B[31m1.4381\u001B[0m  6.4794\n",
      "     51       0.2444        \u001B[32m1.5228\u001B[0m       0.3552        \u001B[31m1.4156\u001B[0m  6.4993\n",
      "     52       0.2344        1.5407       0.3546        1.4191  6.5043\n",
      "     53       0.2594        1.5451       0.3540        1.4193  6.4394\n",
      "     54       0.2428        1.5717       0.3579        1.4281  6.4524\n",
      "     55       0.2534        \u001B[32m1.5096\u001B[0m       \u001B[35m0.3817\u001B[0m        \u001B[31m1.3829\u001B[0m  6.5113\n",
      "     56       0.2603        1.5134       0.3745        1.3968  6.5083\n",
      "     57       0.2898        1.5448       0.3685        1.4147  6.4983\n",
      "     58       0.3375        1.5214       0.3637        1.3843  6.4984\n",
      "     59       0.3082        \u001B[32m1.4676\u001B[0m       0.3700        \u001B[31m1.3687\u001B[0m  6.4934\n",
      "     60       0.2444        1.5206       0.3579        1.4227  6.5253\n",
      "     61       0.2914        1.5672       0.3748        1.3973  6.7701\n",
      "     62       0.2721        1.4852       0.3805        \u001B[31m1.3543\u001B[0m  6.7521\n",
      "     63       0.2760        1.4748       \u001B[35m0.4052\u001B[0m        1.3630  6.5323\n",
      "     64       0.3127        \u001B[32m1.4649\u001B[0m       0.3953        \u001B[31m1.3399\u001B[0m  6.6102\n",
      "     65       0.3631        \u001B[32m1.4330\u001B[0m       \u001B[35m0.4086\u001B[0m        \u001B[31m1.3384\u001B[0m  6.6172\n",
      "     66       0.3519        1.4471       \u001B[35m0.4242\u001B[0m        \u001B[31m1.3191\u001B[0m  6.6652\n",
      "     67       0.3718        \u001B[32m1.4242\u001B[0m       \u001B[35m0.4284\u001B[0m        \u001B[31m1.3132\u001B[0m  6.6282\n",
      "     68       0.3579        \u001B[32m1.4175\u001B[0m       0.3212        1.5872  6.6212\n",
      "     69       0.1696        1.6706       0.3721        1.3988  6.7131\n",
      "     70       0.3167        1.5110       0.3863        1.3436  6.8080\n",
      "     71       0.2543        1.6545       0.3736        1.4288  6.6312\n",
      "     72       0.2615        1.5305       0.3628        1.3961  6.6742\n",
      "     73       0.3272        1.4616       0.3769        1.3438  7.0018\n",
      "     74       0.3209        1.4341       0.4236        1.3219  7.0508\n",
      "     75       0.3694        \u001B[32m1.4069\u001B[0m       \u001B[35m0.4396\u001B[0m        \u001B[31m1.2965\u001B[0m  6.8170\n",
      "     76       0.4007        \u001B[32m1.4009\u001B[0m       0.4312        \u001B[31m1.2955\u001B[0m  6.5982\n",
      "     77       0.3902        \u001B[32m1.3881\u001B[0m       \u001B[35m0.4525\u001B[0m        \u001B[31m1.2654\u001B[0m  6.7161\n",
      "     78       0.4055        \u001B[32m1.3759\u001B[0m       \u001B[35m0.4559\u001B[0m        \u001B[31m1.2572\u001B[0m  6.8030\n",
      "     79       0.4221        \u001B[32m1.3596\u001B[0m       0.4477        1.2579  6.6412\n",
      "     80       0.4028        1.3667       \u001B[35m0.4586\u001B[0m        \u001B[31m1.2466\u001B[0m  6.5953\n",
      "     81       0.4170        \u001B[32m1.3513\u001B[0m       \u001B[35m0.4718\u001B[0m        \u001B[31m1.2217\u001B[0m  6.9129\n",
      "     82       0.4149        \u001B[32m1.3426\u001B[0m       0.4622        \u001B[31m1.2165\u001B[0m  6.6312\n",
      "     83       0.4212        \u001B[32m1.3292\u001B[0m       0.4303        1.2663  6.7081\n",
      "     84       0.3854        1.3695       0.4604        1.2290  6.5923\n",
      "     85       0.4119        1.3321       \u001B[35m0.4736\u001B[0m        \u001B[31m1.1952\u001B[0m  6.5213\n",
      "     86       0.4266        \u001B[32m1.3025\u001B[0m       0.4727        \u001B[31m1.1866\u001B[0m  6.5573\n",
      "     87       0.4444        \u001B[32m1.2965\u001B[0m       0.4565        1.2145  6.5453\n",
      "     88       0.3944        1.3108       0.3588        1.4838  6.7401\n",
      "     89       0.2254        1.4987       0.4212        1.2403  6.7121\n",
      "     90       0.3652        1.3375       0.4378        1.2127  6.6762\n",
      "     91       0.4095        1.2982       0.4396        1.2130  6.7411\n",
      "     92       0.3700        1.3237       \u001B[35m0.4745\u001B[0m        1.1925  6.7791\n",
      "     93       0.4260        \u001B[32m1.2935\u001B[0m       \u001B[35m0.4878\u001B[0m        \u001B[31m1.1475\u001B[0m  6.7201\n",
      "     94       0.4351        \u001B[32m1.2586\u001B[0m       \u001B[35m0.5029\u001B[0m        \u001B[31m1.1240\u001B[0m  6.5773\n",
      "     95       0.4483        \u001B[32m1.2240\u001B[0m       \u001B[35m0.5047\u001B[0m        \u001B[31m1.1125\u001B[0m  6.6032\n",
      "     96       0.4495        1.2354       \u001B[35m0.5179\u001B[0m        \u001B[31m1.1024\u001B[0m  6.5133\n",
      "     97       0.4504        \u001B[32m1.2097\u001B[0m       0.5152        \u001B[31m1.1011\u001B[0m  6.4934\n",
      "     98       0.4459        1.2163       \u001B[35m0.5224\u001B[0m        \u001B[31m1.0717\u001B[0m  6.6472\n",
      "     99       0.4531        \u001B[32m1.1944\u001B[0m       0.5158        1.0946  6.7371\n",
      "    100       0.4333        1.2132       \u001B[35m0.5321\u001B[0m        1.0932  6.6391\n",
      "    101       0.4381        \u001B[32m1.1903\u001B[0m       \u001B[35m0.5478\u001B[0m        \u001B[31m1.0593\u001B[0m  6.7511\n",
      "    102       0.4718        \u001B[32m1.1822\u001B[0m       \u001B[35m0.5508\u001B[0m        \u001B[31m1.0279\u001B[0m  6.7121\n",
      "    103       0.4818        \u001B[32m1.1607\u001B[0m       0.5402        1.0726  6.5433\n",
      "    104       0.4562        1.2145       0.5502        1.0463  6.6312\n",
      "    105       0.4911        \u001B[32m1.1338\u001B[0m       \u001B[35m0.5544\u001B[0m        1.0366  6.5233\n",
      "    106       0.4658        1.1464       \u001B[35m0.5646\u001B[0m        \u001B[31m0.9963\u001B[0m  6.5693\n",
      "    107       0.4965        \u001B[32m1.1317\u001B[0m       0.4950        1.2095  6.5583\n",
      "    108       0.3842        1.2844       0.5396        1.0756  6.6282\n",
      "    109       0.4658        1.1549       \u001B[35m0.5661\u001B[0m        1.0213  6.6412\n",
      "    110       0.4709        \u001B[32m1.1163\u001B[0m       \u001B[35m0.5785\u001B[0m        \u001B[31m0.9821\u001B[0m  6.6452\n",
      "    111       0.5279        \u001B[32m1.1107\u001B[0m       \u001B[35m0.5926\u001B[0m        \u001B[31m0.9643\u001B[0m  6.7851\n",
      "    112       0.5279        \u001B[32m1.0619\u001B[0m       \u001B[35m0.5993\u001B[0m        \u001B[31m0.9542\u001B[0m  6.5483\n",
      "    113       0.5197        1.0733       \u001B[35m0.6041\u001B[0m        \u001B[31m0.9145\u001B[0m  6.6562\n",
      "    114       0.5357        \u001B[32m1.0327\u001B[0m       0.5929        0.9678  6.7381\n",
      "    115       0.5258        1.0598       \u001B[35m0.6285\u001B[0m        \u001B[31m0.8996\u001B[0m  6.7211\n",
      "    116       0.5586        \u001B[32m1.0284\u001B[0m       0.6183        0.9001  6.7671\n",
      "    117       0.5622        \u001B[32m1.0068\u001B[0m       \u001B[35m0.6312\u001B[0m        \u001B[31m0.8740\u001B[0m  6.7661\n",
      "    118       0.5622        \u001B[32m0.9875\u001B[0m       0.6279        0.8785  6.6772\n",
      "    119       0.5728        \u001B[32m0.9674\u001B[0m       \u001B[35m0.6366\u001B[0m        \u001B[31m0.8536\u001B[0m  6.6382\n",
      "    120       0.5785        0.9759       \u001B[35m0.6592\u001B[0m        \u001B[31m0.8157\u001B[0m  6.5743\n",
      "    121       0.6011        \u001B[32m0.9378\u001B[0m       0.6493        0.8193  6.5103\n",
      "    122       0.5797        0.9378       \u001B[35m0.6619\u001B[0m        \u001B[31m0.7865\u001B[0m  6.6072\n",
      "    123       0.5863        \u001B[32m0.9167\u001B[0m       \u001B[35m0.6650\u001B[0m        0.8015  6.6362\n",
      "    124       0.6201        \u001B[32m0.8726\u001B[0m       \u001B[35m0.6812\u001B[0m        \u001B[31m0.7535\u001B[0m  6.5543\n",
      "    125       0.6306        \u001B[32m0.8574\u001B[0m       \u001B[35m0.6981\u001B[0m        \u001B[31m0.7254\u001B[0m  6.5133\n",
      "    126       0.6481        \u001B[32m0.8294\u001B[0m       0.6625        0.7714  6.6062\n",
      "    127       0.6186        0.8920       0.6915        0.7361  6.7281\n",
      "    128       0.6312        \u001B[32m0.8282\u001B[0m       0.6900        0.7451  6.5713\n",
      "    129       0.6198        0.8561       \u001B[35m0.6996\u001B[0m        0.7334  6.6222\n",
      "    130       0.6541        \u001B[32m0.7982\u001B[0m       \u001B[35m0.7243\u001B[0m        \u001B[31m0.6758\u001B[0m  6.5423\n",
      "    131       0.6613        \u001B[32m0.7840\u001B[0m       0.6960        0.7332  6.5343\n",
      "    132       0.6616        0.8202       \u001B[35m0.7346\u001B[0m        \u001B[31m0.6488\u001B[0m  6.6872\n",
      "    133       0.6867        \u001B[32m0.7427\u001B[0m       \u001B[35m0.7475\u001B[0m        \u001B[31m0.5992\u001B[0m  6.6432\n",
      "    134       0.7065        \u001B[32m0.7088\u001B[0m       0.7427        0.6259  6.6252\n",
      "    135       0.7056        \u001B[32m0.6622\u001B[0m       \u001B[35m0.7770\u001B[0m        \u001B[31m0.5417\u001B[0m  6.7101\n",
      "    136       0.7222        \u001B[32m0.6582\u001B[0m       \u001B[35m0.7957\u001B[0m        \u001B[31m0.4882\u001B[0m  6.5823\n",
      "    137       0.7454        \u001B[32m0.6054\u001B[0m       \u001B[35m0.7966\u001B[0m        0.5080  6.8560\n",
      "    138       0.7650        \u001B[32m0.5594\u001B[0m       \u001B[35m0.8102\u001B[0m        \u001B[31m0.4779\u001B[0m  6.6802\n",
      "    139       0.7752        \u001B[32m0.5569\u001B[0m       \u001B[35m0.8195\u001B[0m        \u001B[31m0.4389\u001B[0m  6.5962\n",
      "    140       0.7897        \u001B[32m0.5160\u001B[0m       0.8162        \u001B[31m0.4355\u001B[0m  6.7940\n",
      "    141       0.8017        \u001B[32m0.4717\u001B[0m       \u001B[35m0.8255\u001B[0m        \u001B[31m0.4178\u001B[0m  6.6312\n",
      "    142       0.7966        0.4800       \u001B[35m0.8572\u001B[0m        \u001B[31m0.3611\u001B[0m  6.7011\n",
      "    143       0.8415        \u001B[32m0.4160\u001B[0m       \u001B[35m0.8683\u001B[0m        \u001B[31m0.3278\u001B[0m  6.7930\n",
      "    144       0.8478        \u001B[32m0.3655\u001B[0m       \u001B[35m0.8840\u001B[0m        \u001B[31m0.2913\u001B[0m  6.7581\n",
      "    145       0.8563        \u001B[32m0.3506\u001B[0m       \u001B[35m0.9012\u001B[0m        \u001B[31m0.2507\u001B[0m  6.8140\n",
      "    146       0.8599        \u001B[32m0.3230\u001B[0m       \u001B[35m0.9075\u001B[0m        \u001B[31m0.2277\u001B[0m  6.7141\n",
      "    147       0.8698        \u001B[32m0.3059\u001B[0m       \u001B[35m0.9180\u001B[0m        \u001B[31m0.2202\u001B[0m  6.7021\n",
      "    148       0.8888        \u001B[32m0.2849\u001B[0m       0.9159        0.2213  6.5453\n",
      "    149       0.8903        0.2996       0.8677        0.3277  6.7940\n",
      "    150       0.8515        0.3723       0.8515        0.3904  6.5803\n",
      "    151       0.8623        0.3443       0.8503        0.3877  6.6382\n",
      "    152       0.8713        0.3059       0.8713        0.3275  6.5623\n",
      "    153       0.8879        0.3085       0.8828        0.3106  6.8180\n",
      "    154       0.8804        0.3214       \u001B[35m0.9208\u001B[0m        \u001B[31m0.2098\u001B[0m  6.7441\n",
      "    155       0.8927        \u001B[32m0.2586\u001B[0m       0.9177        \u001B[31m0.2078\u001B[0m  6.6192\n",
      "    156       0.9141        \u001B[32m0.2304\u001B[0m       \u001B[35m0.9461\u001B[0m        \u001B[31m0.1489\u001B[0m  6.7081\n",
      "    157       0.9376        \u001B[32m0.1607\u001B[0m       \u001B[35m0.9587\u001B[0m        \u001B[31m0.1116\u001B[0m  6.6152\n",
      "    158       0.9503        \u001B[32m0.1272\u001B[0m       \u001B[35m0.9732\u001B[0m        \u001B[31m0.0792\u001B[0m  6.7041\n",
      "    159       0.9654        \u001B[32m0.0904\u001B[0m       \u001B[35m0.9795\u001B[0m        \u001B[31m0.0638\u001B[0m  6.5233\n",
      "    160       0.9657        \u001B[32m0.0861\u001B[0m       \u001B[35m0.9810\u001B[0m        0.0643  6.5193\n",
      "    161       0.9810        \u001B[32m0.0567\u001B[0m       \u001B[35m0.9870\u001B[0m        \u001B[31m0.0414\u001B[0m  6.5603\n",
      "    162       0.9846        \u001B[32m0.0481\u001B[0m       \u001B[35m0.9907\u001B[0m        \u001B[31m0.0304\u001B[0m  6.6702\n",
      "    163       0.9895        \u001B[32m0.0349\u001B[0m       \u001B[35m0.9910\u001B[0m        \u001B[31m0.0259\u001B[0m  6.6012\n",
      "    164       0.9913        \u001B[32m0.0293\u001B[0m       \u001B[35m0.9961\u001B[0m        \u001B[31m0.0187\u001B[0m  6.7411\n",
      "    165       0.9961        \u001B[32m0.0203\u001B[0m       0.9961        \u001B[31m0.0141\u001B[0m  7.1527\n",
      "    166       0.9943        \u001B[32m0.0185\u001B[0m       \u001B[35m0.9985\u001B[0m        \u001B[31m0.0098\u001B[0m  7.1317\n",
      "    167       0.9955        \u001B[32m0.0181\u001B[0m       0.9967        0.0117  6.9619\n",
      "    168       0.9976        \u001B[32m0.0106\u001B[0m       \u001B[35m0.9997\u001B[0m        \u001B[31m0.0063\u001B[0m  6.7121\n",
      "    169       0.9991        \u001B[32m0.0067\u001B[0m       0.9997        \u001B[31m0.0040\u001B[0m  6.7521\n",
      "    170       0.9994        \u001B[32m0.0057\u001B[0m       \u001B[35m1.0000\u001B[0m        \u001B[31m0.0023\u001B[0m  6.6562\n",
      "    171       1.0000        \u001B[32m0.0023\u001B[0m       1.0000        \u001B[31m0.0017\u001B[0m  6.4704\n",
      "    172       1.0000        \u001B[32m0.0013\u001B[0m       1.0000        \u001B[31m0.0009\u001B[0m  6.5043\n",
      "    173       1.0000        \u001B[32m0.0011\u001B[0m       1.0000        \u001B[31m0.0007\u001B[0m  6.4434\n",
      "    174       0.9997        0.0013       1.0000        0.0008  6.4254\n",
      "    175       1.0000        \u001B[32m0.0008\u001B[0m       1.0000        \u001B[31m0.0005\u001B[0m  6.4714\n",
      "    176       1.0000        \u001B[32m0.0005\u001B[0m       1.0000        \u001B[31m0.0004\u001B[0m  6.4964\n",
      "    177       1.0000        \u001B[32m0.0004\u001B[0m       1.0000        \u001B[31m0.0004\u001B[0m  6.4744\n",
      "    178       1.0000        \u001B[32m0.0004\u001B[0m       1.0000        \u001B[31m0.0003\u001B[0m  6.4704\n",
      "    179       1.0000        \u001B[32m0.0003\u001B[0m       1.0000        \u001B[31m0.0003\u001B[0m  6.4814\n",
      "    180       1.0000        \u001B[32m0.0002\u001B[0m       1.0000        \u001B[31m0.0002\u001B[0m  6.5103\n",
      "    181       1.0000        \u001B[32m0.0002\u001B[0m       1.0000        \u001B[31m0.0002\u001B[0m  6.4684\n",
      "    182       1.0000        \u001B[32m0.0002\u001B[0m       1.0000        \u001B[31m0.0002\u001B[0m  6.4544\n",
      "    183       1.0000        \u001B[32m0.0002\u001B[0m       1.0000        \u001B[31m0.0002\u001B[0m  6.4654\n",
      "    184       1.0000        \u001B[32m0.0002\u001B[0m       1.0000        \u001B[31m0.0001\u001B[0m  7.0818\n",
      "    185       1.0000        \u001B[32m0.0001\u001B[0m       1.0000        \u001B[31m0.0001\u001B[0m  6.8929\n",
      "    186       1.0000        \u001B[32m0.0001\u001B[0m       1.0000        \u001B[31m0.0001\u001B[0m  6.5653\n",
      "    187       1.0000        \u001B[32m0.0001\u001B[0m       1.0000        0.0001  6.5213\n",
      "    188       1.0000        0.0001       1.0000        \u001B[31m0.0001\u001B[0m  6.5243\n",
      "    189       1.0000        \u001B[32m0.0001\u001B[0m       1.0000        \u001B[31m0.0001\u001B[0m  6.5573\n",
      "    190       1.0000        \u001B[32m0.0001\u001B[0m       1.0000        \u001B[31m0.0001\u001B[0m  6.5163\n",
      "    191       1.0000        \u001B[32m0.0001\u001B[0m       1.0000        \u001B[31m0.0001\u001B[0m  6.5513\n",
      "    192       1.0000        \u001B[32m0.0001\u001B[0m       1.0000        \u001B[31m0.0001\u001B[0m  6.9619\n",
      "    193       1.0000        \u001B[32m0.0001\u001B[0m       1.0000        \u001B[31m0.0001\u001B[0m  6.7301\n",
      "    194       1.0000        \u001B[32m0.0001\u001B[0m       1.0000        \u001B[31m0.0001\u001B[0m  7.0678\n",
      "    195       1.0000        \u001B[32m0.0001\u001B[0m       1.0000        \u001B[31m0.0000\u001B[0m  6.7710\n",
      "    196       1.0000        \u001B[32m0.0001\u001B[0m       1.0000        0.0000  6.6372\n",
      "    197       1.0000        0.0001       1.0000        \u001B[31m0.0000\u001B[0m  6.7451\n",
      "    198       1.0000        \u001B[32m0.0000\u001B[0m       1.0000        \u001B[31m0.0000\u001B[0m  6.6312\n",
      "    199       1.0000        \u001B[32m0.0000\u001B[0m       1.0000        \u001B[31m0.0000\u001B[0m  6.5533\n",
      "    200       1.0000        \u001B[32m0.0000\u001B[0m       1.0000        0.0000  6.6842\n"
     ]
    }
   ],
   "source": [
    "rfromCache = input(\"Do you want to read model from cache Y/N: \")\n",
    "\n",
    "net = None\n",
    "if(rfromCache == \"Y\" or rfromCache == \"y\"):\n",
    "    with open(\"./alexnet.pkl\", \"rb\") as modelFile:\n",
    "        net = pickle.load(modelFile)\n",
    "else:\n",
    "        net = trainModel(torch.optim.Adam)"
   ],
   "metadata": {
    "collapsed": false,
    "pycharm": {
     "name": "#%%\n"
    }
   }
  },
  {
   "cell_type": "code",
   "execution_count": 246,
   "outputs": [
    {
     "name": "stdout",
     "output_type": "stream",
     "text": [
      "Saved Alex Network trained on 200 epochs\n"
     ]
    }
   ],
   "source": [
    "# since training the Alex net model is an expensive operation, we saved it in the pickle file.\n",
    "with open(\"alexnet.pkl\", \"wb\") as file:\n",
    "    pickle.dump(net, file)\n",
    "print(\"Saved Alex Network trained on 200 epochs\")"
   ],
   "metadata": {
    "collapsed": false,
    "pycharm": {
     "name": "#%%\n"
    }
   }
  },
  {
   "cell_type": "code",
   "execution_count": 247,
   "outputs": [],
   "source": [
    "train_loss=[]\n",
    "train_acc = []\n",
    "valid_loss = []\n",
    "valid_acc = []\n",
    "epochs = 200\n",
    "metricsGenerator(net, epochs, train_loss, train_acc, valid_loss, valid_acc)"
   ],
   "metadata": {
    "collapsed": false,
    "pycharm": {
     "name": "#%%\n"
    }
   }
  },
  {
   "cell_type": "markdown",
   "metadata": {
    "id": "kfz5VhvZehiq"
   },
   "source": []
  },
  {
   "cell_type": "code",
   "execution_count": 248,
   "metadata": {
    "colab": {
     "background_save": true
    },
    "id": "ujgrX-MJeoy1",
    "outputId": "82cd3fec-f8b3-43de-8a48-a6c5d4c2032e"
   },
   "outputs": [
    {
     "data": {
      "text/plain": "<Figure size 720x360 with 1 Axes>",
      "image/png": "[encoded data removed]"
     },
     "metadata": {
      "needs_background": "light"
     },
     "output_type": "display_data"
    }
   ],
   "source": [
    "plt.title(\"CNN Loss Function\")\n",
    "plt.xlabel('Epoch')\n",
    "plt.ylabel('Loss')\n",
    "plt.plot(train_loss,  '-', label=\"Training loss\")\n",
    "plt.plot(valid_loss, '-', label=\"Validation loss\")\n",
    "plt.legend()\n",
    "plt.show()"
   ]
  },
  {
   "cell_type": "code",
   "execution_count": 249,
   "outputs": [
    {
     "data": {
      "text/plain": "<Figure size 720x360 with 1 Axes>",
      "image/png": "[encoded data removed]"
     },
     "metadata": {
      "needs_background": "light"
     },
     "output_type": "display_data"
    }
   ],
   "source": [
    "plt.title(\"CNN Accuracy Function\")\n",
    "plt.xlabel('Epoch')\n",
    "plt.ylabel('Accuracy')\n",
    "plt.plot(train_acc, '-', label=\"Training Accuracy\")\n",
    "plt.plot(valid_acc, '-', label=\"Validation Accuracy\")\n",
    "plt.legend()\n",
    "plt.show()"
   ],
   "metadata": {
    "collapsed": false,
    "pycharm": {
     "name": "#%%\n"
    }
   }
  },
  {
   "cell_type": "code",
   "execution_count": 253,
   "metadata": {
    "colab": {
     "background_save": true
    },
    "id": "Vpo5iyfRfW0S",
    "outputId": "4e09eb29-965b-4eed-9bf9-b1f5786f29d0"
   },
   "outputs": [
    {
     "name": "stdout",
     "output_type": "stream",
     "text": [
      "Model accuracy is 61.8018018018018 %\n"
     ]
    }
   ],
   "source": [
    "y_pred = net.predict(mask_test_dataset)\n",
    "y_test = []\n",
    "for x, y in iter(mask_test_dataset):\n",
    "  y_test.append(y)\n",
    "\n",
    "y_test = np.array(y_test)\n",
    "r = accuracy_score(y_test, y_pred)\n",
    "accuracy = r * 100\n",
    "print(\"Model accuracy is {} %\".format(accuracy))"
   ]
  },
  {
   "cell_type": "code",
   "execution_count": 254,
   "outputs": [
    {
     "data": {
      "text/plain": "<Figure size 720x360 with 2 Axes>",
      "image/png": "[encoded data removed]"
     },
     "metadata": {
      "needs_background": "light"
     },
     "output_type": "display_data"
    }
   ],
   "source": [
    "from sklearn.metrics import plot_confusion_matrix, confusion_matrix\n",
    "cm = confusion_matrix(y_test, y_pred)\n",
    "plot_confusion_matrix(net, mask_test_dataset, y_test.reshape(-1, 1))\n",
    "plt.show()"
   ],
   "metadata": {
    "collapsed": false,
    "pycharm": {
     "name": "#%%\n"
    }
   }
  },
  {
   "cell_type": "code",
   "execution_count": 255,
   "outputs": [
    {
     "name": "stdout",
     "output_type": "stream",
     "text": [
      "               precision    recall  f1-score   support\n",
      "\n",
      "   Cloth Mask       0.63      0.67      0.65       269\n",
      "     Surgical       0.54      0.55      0.54       218\n",
      "      No Mask       0.57      0.45      0.50       175\n",
      "        Valve       0.76      0.82      0.79       233\n",
      "Without Valve       0.55      0.55      0.55       215\n",
      "\n",
      "     accuracy                           0.62      1110\n",
      "    macro avg       0.61      0.61      0.61      1110\n",
      " weighted avg       0.61      0.62      0.61      1110\n",
      "\n"
     ]
    }
   ],
   "source": [
    "from sklearn.metrics import classification_report\n",
    "target_names = ['Cloth Mask', 'Surgical', 'No Mask','Valve','Without Valve']\n",
    "print(classification_report(y_test, y_pred, target_names=target_names))"
   ],
   "metadata": {
    "collapsed": false,
    "pycharm": {
     "name": "#%%\n"
    }
   }
  },
  {
   "cell_type": "markdown",
   "metadata": {
    "id": "6kTr7nkmVnjw"
   },
   "source": [
    "## References\n",
    "1.   https://towardsdatascience.com/basics-of-the-classic-cnn-a3dce1225add\n",
    "2.   https://en.wikipedia.org/wiki/LeNet#:~:text=In%20general%2C%20LeNet%20refers%20to,in%20large%2Dscale%20image%20processing.\n",
    "3. https://matplotlib.org/stable/tutorials/introductory/pyplot.html\n",
    "4. https://medium.datadriveninvestor.com/train-a-cnn-using-skorch-for-mnist-digit-recognition-53d7d2f971c7\n",
    "5. https://stackoverflow.com/questions/19125722/adding-a-legend-to-pyplot-in-matplotlib-in-the-simplest-manner-possible\n",
    "6. https://github.com/skorch-dev/skorch\n",
    "7. https://skorch.readthedocs.io/en/stable/user/save_load.html\n",
    "8. https://medium.com/analytics-vidhya/creating-a-custom-dataset-and-dataloader-in-pytorch-76f210a1df5d\n",
    "9. https://scikit-learn.org/stable/modules/generated/sklearn.metrics.plot_confusion_matrix.html\n",
    "10. https://stackoverflow.com/questions/19233771/sklearn-plot-confusion-matrix-with-labels\n",
    "11. https://towardsdatascience.com/the-w3h-of-alexnet-vggnet-resnet-and-inception-7baaaecccc96\n"
   ]
  }
 ],
 "metadata": {
  "colab": {
   "collapsed_sections": [],
   "name": "ModelTraining.ipynb",
   "provenance": []
  },
  "kernelspec": {
   "display_name": "Python 3",
   "name": "python3"
  },
  "language_info": {
   "name": "python"
  }
 },
 "nbformat": 4,
 "nbformat_minor": 0
}